{
 "cells": [
  {
   "cell_type": "code",
   "execution_count": 1,
   "metadata": {},
   "outputs": [],
   "source": [
    "import pandas as pd\n",
    "import numpy as np\n",
    "import matplotlib as plt"
   ]
  },
  {
   "cell_type": "code",
   "execution_count": 2,
   "metadata": {},
   "outputs": [
    {
     "name": "stdout",
     "output_type": "stream",
     "text": [
      "Size of the dataset: 212155\n",
      "43\n"
     ]
    }
   ],
   "source": [
    "#read the pfac data, which shows the actuall police control area of the county\n",
    "pfac = pd.read_csv('../data/PFAC.csv')\n",
    "\n",
    "#read the scenery data \n",
    "df = pd.read_csv('scenery.csv', encoding = \"ISO-8859-1\")\n",
    "print('Size of the dataset: ' + str(df.shape[0]))\n",
    "\n",
    "#switch the colomns and rows for pfac data\n",
    "pfac = pfac.transpose()\n",
    "pfac.reset_index(inplace = True)\n",
    "\n",
    "#reset the header of the pfac data\n",
    "new_header = pfac.iloc[0]\n",
    "pfac = pfac[1:]\n",
    "pfac.columns = new_header\n",
    "crime_df = pd.read_csv('../data/number_crime.csv')\n",
    "\n",
    "print(pfac.shape[1])"
   ]
  },
  {
   "cell_type": "code",
   "execution_count": 3,
   "metadata": {},
   "outputs": [],
   "source": [
    "#find the county\n",
    "def matchCounty(area):\n",
    "    for i in pfac.columns:\n",
    "        if area in list(pfac[i]):\n",
    "            return i\n",
    "    return np.nan"
   ]
  },
  {
   "cell_type": "code",
   "execution_count": 4,
   "metadata": {
    "scrolled": true
   },
   "outputs": [
    {
     "data": {
      "text/plain": [
       "214"
      ]
     },
     "execution_count": 4,
     "metadata": {},
     "output_type": "execute_result"
    }
   ],
   "source": [
    "#the unique\n",
    "len(df['County'].unique())"
   ]
  },
  {
   "cell_type": "code",
   "execution_count": 5,
   "metadata": {},
   "outputs": [],
   "source": [
    "#df['County'].unique()"
   ]
  },
  {
   "cell_type": "code",
   "execution_count": 6,
   "metadata": {},
   "outputs": [
    {
     "data": {
      "text/plain": [
       "44"
      ]
     },
     "execution_count": 6,
     "metadata": {},
     "output_type": "execute_result"
    }
   ],
   "source": [
    "df['County'] = df['County'].apply(matchCounty)\n",
    "len(df['County'].unique())"
   ]
  },
  {
   "cell_type": "code",
   "execution_count": 7,
   "metadata": {},
   "outputs": [
    {
     "data": {
      "text/plain": [
       "65530"
      ]
     },
     "execution_count": 7,
     "metadata": {},
     "output_type": "execute_result"
    }
   ],
   "source": [
    "sum(df['County'].isnull())"
   ]
  },
  {
   "cell_type": "code",
   "execution_count": 8,
   "metadata": {},
   "outputs": [],
   "source": [
    "#df['County'].unique()"
   ]
  },
  {
   "cell_type": "code",
   "execution_count": 9,
   "metadata": {},
   "outputs": [],
   "source": [
    "#df['County'].head(100)"
   ]
  },
  {
   "cell_type": "markdown",
   "metadata": {},
   "source": [
    "##### comment\n",
    "drop every column except 'County' and 'Rating'\n",
    "\n",
    "calculate avg_rating and standard_deviation from 'Rating' and add 'num_pictures'"
   ]
  },
  {
   "cell_type": "code",
   "execution_count": 14,
   "metadata": {},
   "outputs": [
    {
     "data": {
      "text/html": [
       "<div>\n",
       "<style scoped>\n",
       "    .dataframe tbody tr th:only-of-type {\n",
       "        vertical-align: middle;\n",
       "    }\n",
       "\n",
       "    .dataframe tbody tr th {\n",
       "        vertical-align: top;\n",
       "    }\n",
       "\n",
       "    .dataframe thead th {\n",
       "        text-align: right;\n",
       "    }\n",
       "</style>\n",
       "<table border=\"1\" class=\"dataframe\">\n",
       "  <thead>\n",
       "    <tr style=\"text-align: right;\">\n",
       "      <th></th>\n",
       "      <th>Avg_Rating</th>\n",
       "      <th>Standard_Deviation</th>\n",
       "      <th>num_pictures</th>\n",
       "    </tr>\n",
       "    <tr>\n",
       "      <th>County</th>\n",
       "      <th></th>\n",
       "      <th></th>\n",
       "      <th></th>\n",
       "    </tr>\n",
       "  </thead>\n",
       "  <tbody>\n",
       "    <tr>\n",
       "      <th>Avon and Somerset</th>\n",
       "      <td>2.712359</td>\n",
       "      <td>1.873534</td>\n",
       "      <td>4755</td>\n",
       "    </tr>\n",
       "    <tr>\n",
       "      <th>Bedfordshire</th>\n",
       "      <td>2.548122</td>\n",
       "      <td>1.870577</td>\n",
       "      <td>1187</td>\n",
       "    </tr>\n",
       "    <tr>\n",
       "      <th>Cambridgeshire</th>\n",
       "      <td>2.462462</td>\n",
       "      <td>1.848670</td>\n",
       "      <td>3209</td>\n",
       "    </tr>\n",
       "    <tr>\n",
       "      <th>Cheshire</th>\n",
       "      <td>2.526800</td>\n",
       "      <td>1.835459</td>\n",
       "      <td>2296</td>\n",
       "    </tr>\n",
       "    <tr>\n",
       "      <th>City of London</th>\n",
       "      <td>3.209225</td>\n",
       "      <td>1.974855</td>\n",
       "      <td>4</td>\n",
       "    </tr>\n",
       "    <tr>\n",
       "      <th>Cleveland</th>\n",
       "      <td>2.363048</td>\n",
       "      <td>1.900951</td>\n",
       "      <td>299</td>\n",
       "    </tr>\n",
       "    <tr>\n",
       "      <th>Cumbria</th>\n",
       "      <td>2.908924</td>\n",
       "      <td>1.928069</td>\n",
       "      <td>6869</td>\n",
       "    </tr>\n",
       "    <tr>\n",
       "      <th>Derbyshire</th>\n",
       "      <td>2.706742</td>\n",
       "      <td>1.929414</td>\n",
       "      <td>2558</td>\n",
       "    </tr>\n",
       "    <tr>\n",
       "      <th>Devon and Cornwall</th>\n",
       "      <td>2.788292</td>\n",
       "      <td>1.834246</td>\n",
       "      <td>10616</td>\n",
       "    </tr>\n",
       "    <tr>\n",
       "      <th>Dorset</th>\n",
       "      <td>2.678697</td>\n",
       "      <td>1.826376</td>\n",
       "      <td>2707</td>\n",
       "    </tr>\n",
       "    <tr>\n",
       "      <th>Durham</th>\n",
       "      <td>2.698612</td>\n",
       "      <td>1.863479</td>\n",
       "      <td>2367</td>\n",
       "    </tr>\n",
       "    <tr>\n",
       "      <th>Dyfed-Powys</th>\n",
       "      <td>2.876897</td>\n",
       "      <td>1.834040</td>\n",
       "      <td>6096</td>\n",
       "    </tr>\n",
       "    <tr>\n",
       "      <th>Essex</th>\n",
       "      <td>2.471854</td>\n",
       "      <td>1.831060</td>\n",
       "      <td>3708</td>\n",
       "    </tr>\n",
       "    <tr>\n",
       "      <th>Gloucestershire</th>\n",
       "      <td>2.714484</td>\n",
       "      <td>1.846298</td>\n",
       "      <td>2642</td>\n",
       "    </tr>\n",
       "    <tr>\n",
       "      <th>Greater Manchester</th>\n",
       "      <td>2.428156</td>\n",
       "      <td>2.068918</td>\n",
       "      <td>1192</td>\n",
       "    </tr>\n",
       "    <tr>\n",
       "      <th>Gwent</th>\n",
       "      <td>2.581222</td>\n",
       "      <td>1.935530</td>\n",
       "      <td>591</td>\n",
       "    </tr>\n",
       "    <tr>\n",
       "      <th>Hampshire</th>\n",
       "      <td>2.600870</td>\n",
       "      <td>1.840056</td>\n",
       "      <td>4187</td>\n",
       "    </tr>\n",
       "    <tr>\n",
       "      <th>Hertfordshire</th>\n",
       "      <td>2.451411</td>\n",
       "      <td>1.895379</td>\n",
       "      <td>1648</td>\n",
       "    </tr>\n",
       "    <tr>\n",
       "      <th>Humberside</th>\n",
       "      <td>2.557852</td>\n",
       "      <td>1.787980</td>\n",
       "      <td>3532</td>\n",
       "    </tr>\n",
       "    <tr>\n",
       "      <th>Kent</th>\n",
       "      <td>2.503552</td>\n",
       "      <td>1.787717</td>\n",
       "      <td>3851</td>\n",
       "    </tr>\n",
       "    <tr>\n",
       "      <th>Lancashire</th>\n",
       "      <td>2.600273</td>\n",
       "      <td>1.893096</td>\n",
       "      <td>3016</td>\n",
       "    </tr>\n",
       "    <tr>\n",
       "      <th>Leicestershire</th>\n",
       "      <td>2.519469</td>\n",
       "      <td>1.785538</td>\n",
       "      <td>2449</td>\n",
       "    </tr>\n",
       "    <tr>\n",
       "      <th>Lincolnshire</th>\n",
       "      <td>2.534675</td>\n",
       "      <td>1.809087</td>\n",
       "      <td>5732</td>\n",
       "    </tr>\n",
       "    <tr>\n",
       "      <th>Merseyside</th>\n",
       "      <td>2.445716</td>\n",
       "      <td>2.039121</td>\n",
       "      <td>681</td>\n",
       "    </tr>\n",
       "    <tr>\n",
       "      <th>Metropolitan Police</th>\n",
       "      <td>1.938014</td>\n",
       "      <td>1.907292</td>\n",
       "      <td>1284</td>\n",
       "    </tr>\n",
       "    <tr>\n",
       "      <th>Norfolk</th>\n",
       "      <td>2.633350</td>\n",
       "      <td>1.841184</td>\n",
       "      <td>5314</td>\n",
       "    </tr>\n",
       "    <tr>\n",
       "      <th>North Wales</th>\n",
       "      <td>2.941677</td>\n",
       "      <td>1.979406</td>\n",
       "      <td>6228</td>\n",
       "    </tr>\n",
       "    <tr>\n",
       "      <th>North Yorkshire</th>\n",
       "      <td>2.771272</td>\n",
       "      <td>1.866603</td>\n",
       "      <td>8073</td>\n",
       "    </tr>\n",
       "    <tr>\n",
       "      <th>Northamptonshire</th>\n",
       "      <td>2.575889</td>\n",
       "      <td>1.846145</td>\n",
       "      <td>2272</td>\n",
       "    </tr>\n",
       "    <tr>\n",
       "      <th>Northumbria</th>\n",
       "      <td>2.821843</td>\n",
       "      <td>1.893762</td>\n",
       "      <td>5257</td>\n",
       "    </tr>\n",
       "    <tr>\n",
       "      <th>Nottinghamshire</th>\n",
       "      <td>2.464685</td>\n",
       "      <td>1.880608</td>\n",
       "      <td>2087</td>\n",
       "    </tr>\n",
       "    <tr>\n",
       "      <th>South Wales</th>\n",
       "      <td>2.692996</td>\n",
       "      <td>1.855747</td>\n",
       "      <td>6290</td>\n",
       "    </tr>\n",
       "    <tr>\n",
       "      <th>South Yorkshire</th>\n",
       "      <td>2.287032</td>\n",
       "      <td>1.763057</td>\n",
       "      <td>1431</td>\n",
       "    </tr>\n",
       "    <tr>\n",
       "      <th>Staffordshire</th>\n",
       "      <td>2.560061</td>\n",
       "      <td>1.869428</td>\n",
       "      <td>2608</td>\n",
       "    </tr>\n",
       "    <tr>\n",
       "      <th>Suffolk</th>\n",
       "      <td>2.623217</td>\n",
       "      <td>1.822361</td>\n",
       "      <td>3796</td>\n",
       "    </tr>\n",
       "    <tr>\n",
       "      <th>Surrey</th>\n",
       "      <td>2.633970</td>\n",
       "      <td>1.971105</td>\n",
       "      <td>1624</td>\n",
       "    </tr>\n",
       "    <tr>\n",
       "      <th>Sussex</th>\n",
       "      <td>2.723256</td>\n",
       "      <td>1.860760</td>\n",
       "      <td>3694</td>\n",
       "    </tr>\n",
       "    <tr>\n",
       "      <th>Thames Valley</th>\n",
       "      <td>2.566494</td>\n",
       "      <td>1.820355</td>\n",
       "      <td>5558</td>\n",
       "    </tr>\n",
       "    <tr>\n",
       "      <th>Warwickshire</th>\n",
       "      <td>2.517741</td>\n",
       "      <td>1.825380</td>\n",
       "      <td>1873</td>\n",
       "    </tr>\n",
       "    <tr>\n",
       "      <th>West Mercia</th>\n",
       "      <td>2.654227</td>\n",
       "      <td>1.812546</td>\n",
       "      <td>4838</td>\n",
       "    </tr>\n",
       "    <tr>\n",
       "      <th>West Midlands</th>\n",
       "      <td>2.468773</td>\n",
       "      <td>1.809740</td>\n",
       "      <td>2968</td>\n",
       "    </tr>\n",
       "    <tr>\n",
       "      <th>West Yorkshire</th>\n",
       "      <td>2.538564</td>\n",
       "      <td>1.946999</td>\n",
       "      <td>1921</td>\n",
       "    </tr>\n",
       "    <tr>\n",
       "      <th>Wiltshire</th>\n",
       "      <td>2.692212</td>\n",
       "      <td>1.848735</td>\n",
       "      <td>3317</td>\n",
       "    </tr>\n",
       "  </tbody>\n",
       "</table>\n",
       "</div>"
      ],
      "text/plain": [
       "                     Avg_Rating  Standard_Deviation  num_pictures\n",
       "County                                                           \n",
       "Avon and Somerset      2.712359            1.873534          4755\n",
       "Bedfordshire           2.548122            1.870577          1187\n",
       "Cambridgeshire         2.462462            1.848670          3209\n",
       "Cheshire               2.526800            1.835459          2296\n",
       "City of London         3.209225            1.974855             4\n",
       "Cleveland              2.363048            1.900951           299\n",
       "Cumbria                2.908924            1.928069          6869\n",
       "Derbyshire             2.706742            1.929414          2558\n",
       "Devon and Cornwall     2.788292            1.834246         10616\n",
       "Dorset                 2.678697            1.826376          2707\n",
       "Durham                 2.698612            1.863479          2367\n",
       "Dyfed-Powys            2.876897            1.834040          6096\n",
       "Essex                  2.471854            1.831060          3708\n",
       "Gloucestershire        2.714484            1.846298          2642\n",
       "Greater Manchester     2.428156            2.068918          1192\n",
       "Gwent                  2.581222            1.935530           591\n",
       "Hampshire              2.600870            1.840056          4187\n",
       "Hertfordshire          2.451411            1.895379          1648\n",
       "Humberside             2.557852            1.787980          3532\n",
       "Kent                   2.503552            1.787717          3851\n",
       "Lancashire             2.600273            1.893096          3016\n",
       "Leicestershire         2.519469            1.785538          2449\n",
       "Lincolnshire           2.534675            1.809087          5732\n",
       "Merseyside             2.445716            2.039121           681\n",
       "Metropolitan Police    1.938014            1.907292          1284\n",
       "Norfolk                2.633350            1.841184          5314\n",
       "North Wales            2.941677            1.979406          6228\n",
       "North Yorkshire        2.771272            1.866603          8073\n",
       "Northamptonshire       2.575889            1.846145          2272\n",
       "Northumbria            2.821843            1.893762          5257\n",
       "Nottinghamshire        2.464685            1.880608          2087\n",
       "South Wales            2.692996            1.855747          6290\n",
       "South Yorkshire        2.287032            1.763057          1431\n",
       "Staffordshire          2.560061            1.869428          2608\n",
       "Suffolk                2.623217            1.822361          3796\n",
       "Surrey                 2.633970            1.971105          1624\n",
       "Sussex                 2.723256            1.860760          3694\n",
       "Thames Valley          2.566494            1.820355          5558\n",
       "Warwickshire           2.517741            1.825380          1873\n",
       "West Mercia            2.654227            1.812546          4838\n",
       "West Midlands          2.468773            1.809740          2968\n",
       "West Yorkshire         2.538564            1.946999          1921\n",
       "Wiltshire              2.692212            1.848735          3317"
      ]
     },
     "execution_count": 14,
     "metadata": {},
     "output_type": "execute_result"
    }
   ],
   "source": [
    "import statistics\n",
    "\n",
    "df_rate = df.drop(columns=['ID', 'Place', 'Variance', 'Near', 'Category', 'Image', 'Date', 'URL'])\n",
    "df_rate = df_rate.dropna()\n",
    "df_rate['Avg_Rating'] = df_rate['Rating']\n",
    "df_rate['Standard_Deviation'] = df_rate['Rating']\n",
    "df_rate = df_rate.drop(columns=['Rating'])\n",
    "df_rate['num_pictures'] = 1\n",
    "\n",
    "\n",
    "aggregation_functions = {'Avg_Rating': 'mean', 'Standard_Deviation': 'std', 'num_pictures': 'sum'}\n",
    "df_rate_mean = df_rate.groupby(df_rate['County']).aggregate(aggregation_functions)\n",
    "df_rate_mean"
   ]
  },
  {
   "cell_type": "code",
   "execution_count": 75,
   "metadata": {},
   "outputs": [
    {
     "data": {
      "text/plain": [
       "<matplotlib.axes._subplots.AxesSubplot at 0x125426240>"
      ]
     },
     "execution_count": 75,
     "metadata": {},
     "output_type": "execute_result"
    },
    {
     "data": {
      "image/png": "[encoded data removed]",
      "text/plain": [
       "<Figure size 1080x360 with 1 Axes>"
      ]
     },
     "metadata": {
      "needs_background": "light"
     },
     "output_type": "display_data"
    }
   ],
   "source": [
    "df_rate_mean['Rating'].plot(figsize=(15, 5),kind='bar')"
   ]
  },
  {
   "cell_type": "code",
   "execution_count": 76,
   "metadata": {},
   "outputs": [],
   "source": []
  },
  {
   "cell_type": "code",
   "execution_count": null,
   "metadata": {},
   "outputs": [],
   "source": []
  }
 ],
 "metadata": {
  "kernelspec": {
   "display_name": "Python 3",
   "language": "python",
   "name": "python3"
  },
  "language_info": {
   "codemirror_mode": {
    "name": "ipython",
    "version": 3
   },
   "file_extension": ".py",
   "mimetype": "text/x-python",
   "name": "python",
   "nbconvert_exporter": "python",
   "pygments_lexer": "ipython3",
   "version": "3.7.1"
  }
 },
 "nbformat": 4,
 "nbformat_minor": 2
}
