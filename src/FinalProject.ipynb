{
 "cells": [
  {
   "cell_type": "code",
   "execution_count": 1,
   "metadata": {},
   "outputs": [],
   "source": [
    "import pandas as pd\n",
    "import numpy as np"
   ]
  },
  {
   "cell_type": "code",
   "execution_count": 2,
   "metadata": {},
   "outputs": [
    {
     "name": "stdout",
     "output_type": "stream",
     "text": [
      "Size of the dataset: 29747\n",
      "43\n"
     ]
    }
   ],
   "source": [
    "pfac = pd.read_csv('PFACFFinal.csv')\n",
    "df = pd.read_csv('scenery.csv', encoding = \"ISO-8859-1\")\n",
    "print('Size of the dataset: ' + str(df.shape[0]))\n",
    "\n",
    "pfac = pfac.transpose()\n",
    "pfac.reset_index(inplace = True)\n",
    "\n",
    "#reset the header of the df\n",
    "new_header = pfac.iloc[0]\n",
    "pfac = pfac[1:]\n",
    "pfac.columns = new_header\n",
    "\n",
    "pfac.loc[3]\n",
    "print(pfac.shape[1])"
   ]
  },
  {
   "cell_type": "code",
   "execution_count": 3,
   "metadata": {},
   "outputs": [
    {
     "data": {
      "text/plain": [
       "'Gloucestershire'"
      ]
     },
     "execution_count": 3,
     "metadata": {},
     "output_type": "execute_result"
    }
   ],
   "source": [
    "#find the county\n",
    "def matchCounty(area):\n",
    "    for i in pfac.columns:\n",
    "        if area in list(pfac[i]):\n",
    "            return i\n",
    "    return np.nan\n",
    "\n",
    "matchCounty('Gloucestershire')"
   ]
  },
  {
   "cell_type": "code",
   "execution_count": 4,
   "metadata": {
    "scrolled": true
   },
   "outputs": [
    {
     "data": {
      "text/plain": [
       "191"
      ]
     },
     "execution_count": 4,
     "metadata": {},
     "output_type": "execute_result"
    }
   ],
   "source": [
    "#the unique\n",
    "len(df['County'].unique())"
   ]
  },
  {
   "cell_type": "code",
   "execution_count": 5,
   "metadata": {},
   "outputs": [
    {
     "data": {
      "text/plain": [
       "array(['Gloucestershire', 'Cheshire', 'Isle of Man', 'Conwy',\n",
       "       'North Yorkshire', 'Flintshire/Sir y Fflint', 'Hampshire',\n",
       "       'Wokingham', 'West Berkshire', 'Kent', 'Poole', 'Dorset',\n",
       "       'Windsor And Maidenhead', 'Surrey', 'Bracknell Forest',\n",
       "       'Hertfordshire', 'Bedfordshire', 'Derbyshire', 'Great Britain',\n",
       "       'Dumfries And Galloway', 'East Riding of Yorkshire',\n",
       "       'Argyll And Bute', 'North Ayrshire', 'Lincolnshire',\n",
       "       'Rhondda Cynon Taff/Rhondda Cynon Taf', 'Northamptonshire',\n",
       "       'Highland', 'Worcestershire', 'Nottinghamshire', 'Northumberland',\n",
       "       'Na h-Eileanan an Iar', 'Cornwall', 'Pembrokeshire/Sir Benfro',\n",
       "       'West Sussex', 'Gwynedd', 'Cumbria', 'Devon', 'Essex',\n",
       "       'The Vale of Glamorgan/Bro Morgannwg', 'Staffordshire',\n",
       "       'Redcar And Cleveland', 'Scottish Borders', 'Manchester',\n",
       "       'Suffolk', 'Salford', 'Wirral', 'Bath And North East Somerset',\n",
       "       'Lancashire', 'County Durham', 'Tameside', 'Warwickshire',\n",
       "       'Cambridgeshire', 'Birmingham', 'Rutland', 'Shetland Islands',\n",
       "       'Somerset', 'Warrington', 'Shropshire', 'Perth And Kinross',\n",
       "       'Aberdeenshire', 'Oxfordshire', 'Angus', 'Bury', 'Wiltshire',\n",
       "       'South Lanarkshire', 'Moray', 'Isle of Anglesey/Sir Ynys Mon',\n",
       "       'Buckinghamshire', 'Leeds', 'Stirling', 'Milton Keynes',\n",
       "       'Solihull', 'Derby', 'Leicestershire', 'Wakefield',\n",
       "       'Orkney Islands', 'North Tyneside', 'Powys',\n",
       "       'South Gloucestershire', 'East Lothian', 'Southampton',\n",
       "       'North Lanarkshire', 'Clackmannanshire', 'East Sussex',\n",
       "       'South Tyneside', 'Isle of Wight', 'Fife', 'Telford And Wrekin',\n",
       "       'Midlothian', 'Herefordshire', 'East Ayrshire', 'South Ayrshire',\n",
       "       'Dundee', 'Carmarthenshire/Sir Gaerfyrddin', 'Reading',\n",
       "       'Portsmouth', 'Torbay', 'Plymouth', 'Falkirk',\n",
       "       'Ceredigion/Sir Ceredigion', 'North Lincolnshire', 'Aberdeen',\n",
       "       'Enfield', 'Norfolk', 'Middlesbrough', 'York', 'Bradford',\n",
       "       'Waltham Forest', 'Sandwell', 'East Renfrewshire',\n",
       "       'Isles of Scilly', 'Bridgend/Pen-y-Bont ar Ogwr', 'Darlington',\n",
       "       'Hartlepool', 'West Lothian', 'Renfrewshire',\n",
       "       'Monmouthshire/Sir Fynwy', 'Newcastle Upon Tyne',\n",
       "       'Stockton-on-Tees', 'Richmond Upon Thames', 'Harrow', 'Ealing',\n",
       "       'Havering', 'Coventry',\n",
       "       'Neath Port Talbot/Castell-Nedd Port Talbot', 'Swansea/Abertawe',\n",
       "       'Greenwich', 'Redbridge', 'Hillingdon', 'St Helens', 'Knowsley',\n",
       "       'Kingston Upon Thames', 'Wandsworth', 'Hounslow', 'Sutton',\n",
       "       'Trafford', 'Merton', 'Bolton', 'Thurrock', 'Rochdale', 'Medway',\n",
       "       'Denbighshire/Sir Ddinbych', 'Barnet', 'Slough', 'Calderdale',\n",
       "       'Ceredigion', 'Croydon', 'Merthyr Tydfil/Merthyr Tudful',\n",
       "       'North Somerset', 'Edinburgh', 'Peterborough', 'Cardiff/Caerdydd',\n",
       "       'Inverclyde', 'Brent', 'Wigan', 'East Dunbartonshire', 'Sefton',\n",
       "       'Stoke-on-Trent', 'Sheffield', 'Blackburn With Darwen', 'Bromley',\n",
       "       'Barnsley', 'Glasgow', 'Stockport', 'Blackpool',\n",
       "       'Barking And Dagenham', 'Liverpool', 'Bournemouth', 'Kirklees',\n",
       "       'Gateshead', 'Halton', 'Oldham', 'Doncaster', 'Wrexham/Wrecsam',\n",
       "       'Brighton And Hove', 'Bexley', 'Lewisham', 'Denbighshire',\n",
       "       'Rotherham', 'North East Lincolnshire', 'Bristol',\n",
       "       'Newport/Casnewydd', 'Caerphilly/Caerffili', 'Sunderland', 'Luton',\n",
       "       'Swindon', 'Carmarthenshire', 'Southend-on-Sea', 'Newham',\n",
       "       'Walsall', 'Blaenau Gwent'], dtype=object)"
      ]
     },
     "execution_count": 5,
     "metadata": {},
     "output_type": "execute_result"
    }
   ],
   "source": [
    "df['County'].unique()"
   ]
  },
  {
   "cell_type": "code",
   "execution_count": 6,
   "metadata": {},
   "outputs": [
    {
     "data": {
      "text/plain": [
       "43"
      ]
     },
     "execution_count": 6,
     "metadata": {},
     "output_type": "execute_result"
    }
   ],
   "source": [
    "df['County'] = df['County'].apply(matchCounty)\n",
    "len(df['County'].unique())"
   ]
  },
  {
   "cell_type": "code",
   "execution_count": 7,
   "metadata": {},
   "outputs": [
    {
     "data": {
      "text/plain": [
       "8623"
      ]
     },
     "execution_count": 7,
     "metadata": {},
     "output_type": "execute_result"
    }
   ],
   "source": [
    "sum(df['County'].isnull())"
   ]
  },
  {
   "cell_type": "code",
   "execution_count": 8,
   "metadata": {},
   "outputs": [
    {
     "data": {
      "text/plain": [
       "array(['Gloucestershire', 'Cheshire', nan, 'North Wales',\n",
       "       'North Yorkshire', 'Hampshire', 'Thames Valley', 'Kent', 'Dorset',\n",
       "       'Surrey', 'Hertfordshire', 'Bedfordshire', 'Derbyshire',\n",
       "       'Humberside', 'Lincolnshire', 'South Wales', 'Northamptonshire',\n",
       "       'West Mercia', 'Nottinghamshire', 'Northumbria',\n",
       "       'Devon and Cornwall', 'Sussex', 'Cumbria', 'Essex',\n",
       "       'Staffordshire', 'Greater Manchester', 'Suffolk', 'Merseyside',\n",
       "       'Avon and Somerset', 'Lancashire', 'Durham', 'Warwickshire',\n",
       "       'Cambridgeshire', 'West Midlands', 'Leicestershire', 'Wiltshire',\n",
       "       'West Yorkshire', 'Dyfed-Powys', 'Metropolitan Police', 'Norfolk',\n",
       "       'Cleveland', 'South Yorkshire', 'Gwent'], dtype=object)"
      ]
     },
     "execution_count": 8,
     "metadata": {},
     "output_type": "execute_result"
    }
   ],
   "source": [
    "df['County'].unique()"
   ]
  },
  {
   "cell_type": "code",
   "execution_count": 9,
   "metadata": {},
   "outputs": [
    {
     "data": {
      "text/plain": [
       "0        Gloucestershire\n",
       "1        Gloucestershire\n",
       "2        Gloucestershire\n",
       "3               Cheshire\n",
       "4               Cheshire\n",
       "5                    NaN\n",
       "6                    NaN\n",
       "7                    NaN\n",
       "8                    NaN\n",
       "9                    NaN\n",
       "10           North Wales\n",
       "11       North Yorkshire\n",
       "12              Cheshire\n",
       "13           North Wales\n",
       "14              Cheshire\n",
       "15              Cheshire\n",
       "16             Hampshire\n",
       "17         Thames Valley\n",
       "18         Thames Valley\n",
       "19         Thames Valley\n",
       "20         Thames Valley\n",
       "21             Hampshire\n",
       "22                  Kent\n",
       "23                Dorset\n",
       "24                Dorset\n",
       "25                  Kent\n",
       "26         Thames Valley\n",
       "27         Thames Valley\n",
       "28         Thames Valley\n",
       "29         Thames Valley\n",
       "             ...        \n",
       "70      Northamptonshire\n",
       "71                   NaN\n",
       "72                   NaN\n",
       "73           West Mercia\n",
       "74           West Mercia\n",
       "75       Nottinghamshire\n",
       "76           West Mercia\n",
       "77           Northumbria\n",
       "78                   NaN\n",
       "79             Hampshire\n",
       "80             Hampshire\n",
       "81             Hampshire\n",
       "82             Hampshire\n",
       "83    Devon and Cornwall\n",
       "84         Hertfordshire\n",
       "85           South Wales\n",
       "86             Hampshire\n",
       "87             Hampshire\n",
       "88             Hampshire\n",
       "89             Hampshire\n",
       "90             Hampshire\n",
       "91         Thames Valley\n",
       "92                Sussex\n",
       "93         Hertfordshire\n",
       "94         Hertfordshire\n",
       "95           North Wales\n",
       "96           North Wales\n",
       "97         Hertfordshire\n",
       "98           North Wales\n",
       "99         Hertfordshire\n",
       "Name: County, Length: 100, dtype: object"
      ]
     },
     "execution_count": 9,
     "metadata": {},
     "output_type": "execute_result"
    }
   ],
   "source": [
    "df['County'].head(100)"
   ]
  },
  {
   "cell_type": "code",
   "execution_count": null,
   "metadata": {},
   "outputs": [],
   "source": []
  }
 ],
 "metadata": {
  "kernelspec": {
   "display_name": "Python 3",
   "language": "python",
   "name": "python3"
  },
  "language_info": {
   "codemirror_mode": {
    "name": "ipython",
    "version": 3
   },
   "file_extension": ".py",
   "mimetype": "text/x-python",
   "name": "python",
   "nbconvert_exporter": "python",
   "pygments_lexer": "ipython3",
   "version": "3.7.1"
  }
 },
 "nbformat": 4,
 "nbformat_minor": 2
}
